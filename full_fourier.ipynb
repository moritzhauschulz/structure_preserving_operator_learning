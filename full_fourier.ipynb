{
 "cells": [
  {
   "cell_type": "code",
   "execution_count": 1,
   "metadata": {},
   "outputs": [
    {
     "name": "stdout",
     "output_type": "stream",
     "text": [
      "getting data\n",
      "False\n",
      "5\n",
      "(1, 2, 10, 100)\n",
      "(1, 2, 10, 100)\n",
      "(1, 2, 10, 100)\n",
      "(1, 2, 10, 100)\n",
      "(1, 2, 10, 100)\n",
      "(1, 2, 10, 100)\n",
      "(1, 2, 10, 100)\n",
      "(1, 2, 10, 100)\n",
      "(1, 2, 10, 100)\n",
      "(1, 2, 10, 100)\n",
      "(10, 2, 10, 100)\n",
      "5\n",
      "(1, 2, 10, 100)\n",
      "(1, 2, 10, 100)\n",
      "(1, 2, 10, 100)\n",
      "(1, 2, 10, 100)\n",
      "(1, 2, 10, 100)\n",
      "(1, 2, 10, 100)\n",
      "(1, 2, 10, 100)\n",
      "(1, 2, 10, 100)\n",
      "(1, 2, 10, 100)\n",
      "(1, 2, 10, 100)\n",
      "(10, 2, 10, 100)\n"
     ]
    }
   ],
   "source": [
    "from utils.data import get_data\n",
    "\n",
    "class toy_args:\n",
    "\n",
    "    def __init__(self, IC,tmin,tmax,n_trunk,n_branch):\n",
    "        self.IC = IC\n",
    "        self.tmin = tmin\n",
    "        self.tmax = tmax\n",
    "        self.xmin = -25\n",
    "        self.xmax = 25\n",
    "        self.n_trunk = n_trunk\n",
    "        self.n_branch = n_branch\n",
    "        self.load_data = False\n",
    "        self.method = 'full_fourier'\n",
    "        self.problem = '1d_wave'\n",
    "        self.save_data = False\n",
    "        self.col_N = 100\n",
    "        self.t_res = 1\n",
    "        self.x_res = 0.1\n",
    "        self.data_dt = 0.001\n",
    "        self.data_modes = 100\n",
    "        self.zero_zero_mode = True\n",
    "\n",
    "    \n",
    "IC = {'c': 5, 'type': 'periodic_gp', 'params': {'lengthscale':0.5, 'variance':1.0}}\n",
    "\n",
    "my_args = toy_args(IC,0,10,10,10)\n",
    "\n",
    "data = get_data(my_args)\n",
    "\n"
   ]
  },
  {
   "cell_type": "code",
   "execution_count": 2,
   "metadata": {},
   "outputs": [
    {
     "name": "stdout",
     "output_type": "stream",
     "text": [
      "torch.Size([10, 2, 100])\n"
     ]
    }
   ],
   "source": [
    "print(data[0].x.shape)"
   ]
  },
  {
   "cell_type": "code",
   "execution_count": 3,
   "metadata": {},
   "outputs": [
    {
     "name": "stdout",
     "output_type": "stream",
     "text": [
      "torch.Size([10, 2, 10, 100])\n"
     ]
    }
   ],
   "source": [
    "print(data[0].y.shape)"
   ]
  }
 ],
 "metadata": {
  "kernelspec": {
   "display_name": ".venv",
   "language": "python",
   "name": "python3"
  },
  "language_info": {
   "codemirror_mode": {
    "name": "ipython",
    "version": 3
   },
   "file_extension": ".py",
   "mimetype": "text/x-python",
   "name": "python",
   "nbconvert_exporter": "python",
   "pygments_lexer": "ipython3",
   "version": "3.11.7"
  }
 },
 "nbformat": 4,
 "nbformat_minor": 2
}
