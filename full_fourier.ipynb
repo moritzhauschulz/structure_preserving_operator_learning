{
 "cells": [
  {
   "cell_type": "code",
   "execution_count": 147,
   "metadata": {},
   "outputs": [
    {
     "name": "stdout",
     "output_type": "stream",
     "text": [
      "getting data\n",
      "False\n",
      "5\n",
      "(1, 2, 100, 50)\n",
      "(1, 2, 100, 50)\n",
      "(1, 2, 100, 50)\n",
      "(1, 2, 100, 50)\n",
      "(1, 2, 100, 50)\n",
      "(1, 2, 100, 50)\n",
      "(1, 2, 100, 50)\n",
      "(1, 2, 100, 50)\n",
      "(1, 2, 100, 50)\n",
      "(1, 2, 100, 50)\n",
      "(10, 2, 100, 50)\n",
      "5\n",
      "(1, 2, 100, 50)\n",
      "(1, 2, 100, 50)\n",
      "(1, 2, 100, 50)\n",
      "(1, 2, 100, 50)\n",
      "(1, 2, 100, 50)\n",
      "(1, 2, 100, 50)\n",
      "(1, 2, 100, 50)\n",
      "(1, 2, 100, 50)\n",
      "(1, 2, 100, 50)\n",
      "(1, 2, 100, 50)\n",
      "(10, 2, 100, 50)\n"
     ]
    }
   ],
   "source": [
    "from utils.data import get_data\n",
    "\n",
    "class toy_args:\n",
    "\n",
    "    def __init__(self, IC,tmin,tmax,n_trunk,n_branch):\n",
    "        self.IC = IC\n",
    "        self.tmin = tmin\n",
    "        self.tmax = tmax\n",
    "        self.xmin = -25\n",
    "        self.xmax = 25\n",
    "        self.Nt = 50\n",
    "        self.Nx = 99\n",
    "        self.n_trunk = n_trunk\n",
    "        self.n_branch = n_branch\n",
    "        self.load_data = False\n",
    "        self.method = 'full_fourier'\n",
    "        self.problem = '1d_wave'\n",
    "        self.save_data = False\n",
    "        self.Nx = 100\n",
    "        self.t_res = 1\n",
    "        self.x_res = 0.1\n",
    "        self.data_dt = 0.001\n",
    "        self.data_modes = 100\n",
    "        self.zero_zero_mode = True\n",
    "\n",
    "    \n",
    "IC = {'c': 5, 'type': 'periodic_gp', 'params': {'lengthscale':0.5, 'variance':1.0}}\n",
    "\n",
    "my_args = toy_args(IC,0,10,10,10)\n",
    "\n",
    "data = get_data(my_args)\n",
    "\n"
   ]
  },
  {
   "cell_type": "code",
   "execution_count": 149,
   "metadata": {},
   "outputs": [
    {
     "name": "stdout",
     "output_type": "stream",
     "text": [
      "torch.Size([10, 2, 100, 50])\n"
     ]
    }
   ],
   "source": [
    "print(data[0].y.shape)"
   ]
  },
  {
   "cell_type": "code",
   "execution_count": 3,
   "metadata": {},
   "outputs": [
    {
     "name": "stdout",
     "output_type": "stream",
     "text": [
      "torch.Size([10, 2, 10, 100])\n"
     ]
    }
   ],
   "source": [
    "print(data[0].y.shape)"
   ]
  },
  {
   "cell_type": "code",
   "execution_count": 143,
   "metadata": {},
   "outputs": [],
   "source": [
    "import torch\n",
    "\n",
    "Nt_half = Nt // 2 + 1  # Only store non-negative frequencies in time\n",
    "\n",
    "# Generate random independent components\n",
    "real_part = torch.randn(Nx, Nt_half)\n",
    "imag_part = torch.randn(Nx, Nt_half)  # No imaginary part for k_t = 0\n",
    "\n",
    "\n",
    "def construct_full_fourier_matrix(Nx, Nt, F_half):\n",
    "    \"\"\"\n",
    "    Construct a Hermitian-symmetric matrix efficiently without redundancy.\n",
    "    \n",
    "    Args:\n",
    "        Nx (int): Number of spatial frequencies.\n",
    "        Nt (int): Number of time frequencies.\n",
    "    \n",
    "    Returns:\n",
    "        F_full (torch.Tensor): Full Hermitian-symmetric matrix of shape (Nx, Nt).\n",
    "    \"\"\"\n",
    "\n",
    "    Nt_half = Nt // 2 + 1\n",
    "\n",
    "    # Construct the independent part of the Fourier matrix\n",
    "    # F_half = torch.complex(real_part, imag_part)\n",
    "\n",
    "    if Nx % 2 == 0:\n",
    "        F_half[Nx//2+1:,0] = torch.conj(torch.flip(F_half[1:Nx//2,0], dims=[0]))\n",
    "        F_half[Nx//2,0] = F_half[Nx//2,0].real.clone()  # Nyquist row\n",
    "        F_half[Nx//2+1:, -1] = torch.conj(torch.flip(F_half[1:Nx//2,-1], dims=[0]))\n",
    "    else:\n",
    "        print(F_half[Nx//2+1:,0].shape)\n",
    "        print(F_half[:Nx//2+1 ,0].shape)\n",
    "        print(torch.conj(torch.flip(F_half[1:Nx//2+1 ,0], dims=[0])).shape)\n",
    "        F_half[Nx//2+1:,0] = torch.conj(torch.flip(F_half[1:Nx//2+1 ,0], dims=[0]))\n",
    "        F_half[Nx//2+1:, -1] = torch.conj(torch.flip(F_half[1:Nx//2+1,-1], dims=[0]))\n",
    "    \n",
    "    if Nt % 2 == 0:\n",
    "        F_half[0, -1] = F_half[0, -1].real.clone()  # Clone before modifying Nyquist column\n",
    "        \n",
    "\n",
    "    F_full = torch.empty(Nx, Nt, dtype=torch.complex64)\n",
    "\n",
    "    # Copy non-negative frequencies\n",
    "    F_full[:, :Nt_half] = F_half\n",
    "\n",
    "    if Nt % 2 == 0:\n",
    "        F_full[0,Nt//2+1:] = torch.conj(torch.flip(F_full[0,1:Nt//2], dims=[0]))\n",
    "        F_full[1:,Nt//2+1:] = torch.conj(torch.flip(F_half[1:,1:-1],dims=[0,1]))\n",
    "    else:\n",
    "        F_full[0,Nt//2+1:] = torch.conj(torch.flip(F_full[0,1:Nt//2 + 1], dims=[0]))\n",
    "        F_full[1:,Nt//2+1:] = torch.conj(torch.flip(F_half[1:,1:],dims=[0,1]))\n",
    "\n",
    "    # Ensure real values at (0,0) and Nyquist frequency intersections\n",
    "    F_full[0, 0] = F_full[0, 0].real.clone()  # DC component\n",
    "    if Nx % 2 == 0 and Nt % 2 == 0:\n",
    "        F_full[Nx//2, Nt//2] = F_full[Nx//2, Nt//2].real.clone()\n",
    "\n",
    "    return F_full\n",
    "\n"
   ]
  },
  {
   "cell_type": "code",
   "execution_count": 121,
   "metadata": {},
   "outputs": [],
   "source": [
    "#check if ifft output is real\n",
    "def check_ifft_real(F_full):\n",
    "    \"\"\"\n",
    "    Check if the inverse Fourier transform of a Hermitian-symmetric matrix is real.\n",
    "    \n",
    "    Args:\n",
    "        F_full (torch.Tensor): Full Hermitian-symmetric matrix of shape (Nx, Nt).\n",
    "    \n",
    "    Returns:\n",
    "        is_real (bool): True if the inverse Fourier transform is real, False otherwise.\n",
    "    \"\"\"\n",
    "    # Compute the inverse Fourier transform\n",
    "    f_full = torch.fft.ifftn(F_full, dim=(-2, -1))\n",
    "\n",
    "    # Check if the real part is close to zero\n",
    "    is_real = torch.allclose(f_full.imag, torch.zeros_like(f_full.real), atol=1e-5)\n",
    "    \n",
    "    return is_real\n",
    "\n",
    "def check_recovery(F_full):\n",
    "    \"\"\"\n",
    "    Check if the inverse Fourier transform of a Hermitian-symmetric matrix recovers the original matrix.\n",
    "    \n",
    "    Args:\n",
    "        F_full (torch.Tensor): Full Hermitian-symmetric matrix of shape (Nx, Nt).\n",
    "    \n",
    "    Returns:\n",
    "        is_recovered (bool): True if the inverse Fourier transform recovers the original matrix, False otherwise.\n",
    "    \"\"\"\n",
    "    # Compute the inverse Fourier transform\n",
    "    f_full = torch.fft.ifftn(F_full, dim=(-2, -1))\n",
    "\n",
    "    # Compute the forward Fourier transform\n",
    "    F_full_recovered = torch.fft.fftn(f_full, dim=(-2, -1))\n",
    "\n",
    "    # Check if the recovered matrix is close to the original matrix\n",
    "    is_recovered = torch.allclose(F_full, F_full_recovered, atol=1e-5)\n",
    "    \n",
    "    return is_recovered"
   ]
  },
  {
   "cell_type": "code",
   "execution_count": 122,
   "metadata": {},
   "outputs": [
    {
     "name": "stdout",
     "output_type": "stream",
     "text": [
      "Nx = 2, Nt = 2, is_real = True, is_recovered = True\n",
      "Nx = 2, Nt = 3, is_real = True, is_recovered = True\n",
      "Nx = 2, Nt = 4, is_real = True, is_recovered = True\n",
      "Nx = 2, Nt = 5, is_real = True, is_recovered = True\n",
      "Nx = 2, Nt = 6, is_real = True, is_recovered = True\n",
      "Nx = 3, Nt = 2, is_real = True, is_recovered = True\n",
      "Nx = 3, Nt = 3, is_real = True, is_recovered = True\n",
      "Nx = 3, Nt = 4, is_real = True, is_recovered = True\n",
      "Nx = 3, Nt = 5, is_real = True, is_recovered = True\n",
      "Nx = 3, Nt = 6, is_real = True, is_recovered = True\n",
      "Nx = 4, Nt = 2, is_real = True, is_recovered = True\n",
      "Nx = 4, Nt = 3, is_real = True, is_recovered = True\n",
      "Nx = 4, Nt = 4, is_real = True, is_recovered = True\n",
      "Nx = 4, Nt = 5, is_real = True, is_recovered = True\n",
      "Nx = 4, Nt = 6, is_real = True, is_recovered = True\n",
      "Nx = 5, Nt = 2, is_real = True, is_recovered = True\n",
      "Nx = 5, Nt = 3, is_real = True, is_recovered = True\n",
      "Nx = 5, Nt = 4, is_real = True, is_recovered = True\n",
      "Nx = 5, Nt = 5, is_real = True, is_recovered = True\n",
      "Nx = 5, Nt = 6, is_real = True, is_recovered = True\n",
      "Nx = 6, Nt = 2, is_real = True, is_recovered = True\n",
      "Nx = 6, Nt = 3, is_real = True, is_recovered = True\n",
      "Nx = 6, Nt = 4, is_real = True, is_recovered = True\n",
      "Nx = 6, Nt = 5, is_real = True, is_recovered = True\n",
      "Nx = 6, Nt = 6, is_real = True, is_recovered = True\n"
     ]
    }
   ],
   "source": [
    "# Example for a 6x6 matrix\n",
    "for Nx in range(2, 7):\n",
    "    for Nt in range(2, 7):\n",
    "        F_full = construct_hermitian_matrix(Nx, Nt)\n",
    "        is_real = check_ifft_real(F_full)\n",
    "        is_recovered = check_recovery(F_full)\n",
    "        print(f\"Nx = {Nx}, Nt = {Nt}, is_real = {is_real}, is_recovered = {is_recovered}\")\n"
   ]
  },
  {
   "cell_type": "code",
   "execution_count": 130,
   "metadata": {},
   "outputs": [
    {
     "name": "stdout",
     "output_type": "stream",
     "text": [
      "tensor([[12.5039,  0.1178,  4.8728,  4.8728,  0.1178],\n",
      "        [ 0.4384,  6.5763, -7.8406,  1.7181,  3.8307],\n",
      "        [-1.1356, -2.7943,  5.3607, -1.7178, -3.6015],\n",
      "        [-1.9592, -1.4845, -3.3788,  0.1182, -2.5546],\n",
      "        [-2.3991, -2.6235, -2.0845,  2.3827,  1.6553],\n",
      "        [-0.1492, -5.0440, -4.4567, -4.4567, -5.0440],\n",
      "        [-2.3991,  1.6553,  2.3827, -2.0845, -2.6235],\n",
      "        [-1.9592, -2.5546,  0.1182, -3.3788, -1.4845],\n",
      "        [-1.1356, -3.6015, -1.7178,  5.3607, -2.7943],\n",
      "        [ 0.4384,  3.8307,  1.7181, -7.8406,  6.5763]])\n",
      "tensor([[ 0.0000e+00, -2.3441e+00, -4.8746e+00,  4.8746e+00,  2.3441e+00],\n",
      "        [-2.6138e+00,  3.4373e+00, -7.0766e+00, -2.3131e+00, -8.0804e+00],\n",
      "        [ 7.6066e+00, -7.2972e-01, -2.7882e+00,  9.6095e+00, -7.8719e-01],\n",
      "        [-4.1042e+00,  1.1716e+01, -2.8724e+00,  1.3791e+00, -2.7648e+00],\n",
      "        [ 5.3833e-01,  8.0472e+00,  7.5901e+00, -4.6846e+00, -2.9956e+00],\n",
      "        [ 6.7055e-08, -3.2828e-01,  5.6807e+00, -5.6807e+00,  3.2828e-01],\n",
      "        [-5.3833e-01,  2.9956e+00,  4.6846e+00, -7.5901e+00, -8.0472e+00],\n",
      "        [ 4.1042e+00,  2.7648e+00, -1.3791e+00,  2.8724e+00, -1.1716e+01],\n",
      "        [-7.6066e+00,  7.8719e-01, -9.6095e+00,  2.7882e+00,  7.2972e-01],\n",
      "        [ 2.6138e+00,  8.0804e+00,  2.3131e+00,  7.0766e+00, -3.4373e+00]])\n"
     ]
    }
   ],
   "source": [
    "#generate random f_full of dim Nx, Nt\n",
    "f_full = torch.randn(10,5)\n",
    "F_full = torch.fft.fftn(f_full, dim=(-2, -1))\n",
    "\n",
    "print(F_full.real)\n",
    "print(F_full.imag)"
   ]
  },
  {
   "cell_type": "code",
   "execution_count": 144,
   "metadata": {},
   "outputs": [
    {
     "name": "stdout",
     "output_type": "stream",
     "text": [
      "torch.Size([99])\n",
      "torch.Size([100])\n",
      "torch.Size([99])\n"
     ]
    },
    {
     "data": {
      "text/plain": [
       "torch.Size([199, 49])"
      ]
     },
     "execution_count": 144,
     "metadata": {},
     "output_type": "execute_result"
    }
   ],
   "source": [
    "Nt_half = Nt // 2 + 1  # Only store non-negative frequencies in time\n",
    "\n",
    "# Generate random independent components\n",
    "real_part = torch.randn(Nx, Nt_half)\n",
    "imag_part = torch.randn(Nx, Nt_half)  # No imaginary part for k_t = 0\n",
    "\n",
    "F_half = torch.complex(real_part, imag_part)\n",
    "\n",
    "F_full = construct_full_fourier_matrix(Nx, Nt, F_half)\n",
    "\n",
    "F_full.shape"
   ]
  },
  {
   "cell_type": "code",
   "execution_count": 131,
   "metadata": {},
   "outputs": [
    {
     "name": "stdout",
     "output_type": "stream",
     "text": [
      "True\n",
      "True\n",
      "torch.Size([10, 3])\n"
     ]
    }
   ],
   "source": [
    "print(check_ifft_real(F_full))\n",
    "\n",
    "print(check_recovery(F_full))\n",
    "\n",
    "print(torch.fft.rfft2(f_full).shape)"
   ]
  },
  {
   "cell_type": "code",
   "execution_count": 126,
   "metadata": {},
   "outputs": [
    {
     "data": {
      "text/plain": [
       "2"
      ]
     },
     "execution_count": 126,
     "metadata": {},
     "output_type": "execute_result"
    }
   ],
   "source": [
    "5//2"
   ]
  },
  {
   "cell_type": "code",
   "execution_count": 44,
   "metadata": {},
   "outputs": [],
   "source": [
    "f_full = torch.fft.ifftn(F_full, dim=(0, 1), norm='ortho')\n",
    "F_recovered = torch.fft.fftn(f_full, dim=(0, 1), norm='ortho')\n"
   ]
  },
  {
   "cell_type": "code",
   "execution_count": 47,
   "metadata": {},
   "outputs": [
    {
     "name": "stdout",
     "output_type": "stream",
     "text": [
      "tensor([[-0.2858+0.0000j,  1.1945-0.5649j,  1.1945+0.5649j],\n",
      "        [ 0.3442-0.1746j, -1.3853-0.1388j, -0.1205-0.7696j],\n",
      "        [ 0.3442+0.1746j, -0.1205+0.7696j, -1.3853+0.1388j]])\n",
      "tensor([[-0.2858+0.0000j,  1.1945-0.5649j,  1.1945+0.5649j],\n",
      "        [ 0.3442-0.1746j, -1.3853-0.1388j, -0.1205-0.7696j],\n",
      "        [ 0.3442+0.1746j, -0.1205+0.7696j, -1.3853+0.1388j]])\n"
     ]
    }
   ],
   "source": [
    "print(F_full)\n",
    "print(F_recovered)"
   ]
  }
 ],
 "metadata": {
  "kernelspec": {
   "display_name": ".venv",
   "language": "python",
   "name": "python3"
  },
  "language_info": {
   "codemirror_mode": {
    "name": "ipython",
    "version": 3
   },
   "file_extension": ".py",
   "mimetype": "text/x-python",
   "name": "python",
   "nbconvert_exporter": "python",
   "pygments_lexer": "ipython3",
   "version": "3.11.7"
  }
 },
 "nbformat": 4,
 "nbformat_minor": 2
}
