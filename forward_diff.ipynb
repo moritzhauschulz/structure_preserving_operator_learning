{
 "cells": [
  {
   "cell_type": "code",
   "execution_count": null,
   "metadata": {
    "vscode": {
     "languageId": "plaintext"
    }
   },
   "outputs": [],
   "source": [
    "input: prelim_four_coef, prelim_four_coef_grad\n",
    "\n",
    "out_hat = prelim_four_coef * scaling_factor\n",
    "\n",
    "scaling_factor_grad = torch.autograd.grad(outputs=scaling_factor, inputs=x_loc, grad_outputs=torch.ones_like(prelim_out[:, 0].unsqueeze(-1).real), create_graph=True)[0]\n",
    "\n",
    "out_hat_grad = prelim_four_coef_grad * scaling_factor_grad + prelim_four_coef * scaling_factor_grad\n",
    "\n",
    "\n"
   ]
  }
 ],
 "metadata": {
  "language_info": {
   "name": "python"
  }
 },
 "nbformat": 4,
 "nbformat_minor": 2
}
